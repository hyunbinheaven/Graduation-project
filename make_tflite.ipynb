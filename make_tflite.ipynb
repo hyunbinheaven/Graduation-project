{
 "cells": [
  {
   "cell_type": "code",
   "execution_count": null,
   "id": "9d6d372a",
   "metadata": {},
   "outputs": [],
   "source": [
    "import tensorflow as tf\n",
    "tf.__version__\n",
    "from tensorflow.python.client import device_lib\n",
    "device_lib.list_local_devices()"
   ]
  },
  {
   "cell_type": "code",
   "execution_count": null,
   "id": "cb971214",
   "metadata": {
    "scrolled": true
   },
   "outputs": [],
   "source": [
    "import os\n",
    "import cv2\n",
    "import tensorflow as tf\n",
    "\n",
    "from tensorflow.python.client import device_lib\n",
    "print(device_lib.list_local_devices())\n",
    "\n",
    "#딥러닝을 위한 그래픽 카드 설정\n",
    "os.environ[\"CUDA_VISIBLE_DEVICES\"] = \"0\""
   ]
  },
  {
   "cell_type": "code",
   "execution_count": null,
   "id": "ec1979b7",
   "metadata": {},
   "outputs": [],
   "source": [
    "import tensorflow as tf\n",
    "from tensorflow.keras.preprocessing.image import ImageDataGenerator\n",
    "from sklearn.preprocessing import LabelEncoder\n",
    "\n",
    "IMAGE_SIZE = (150, 150)\n",
    "\n",
    "datagen_train = ImageDataGenerator(\n",
    "    rescale=1.0/255.0,         \n",
    "    rotation_range=5,  \n",
    "    width_shift_range=0.05,\n",
    "    height_shift_range=0.05,  \n",
    "    horizontal_flip=True,\n",
    ")\n",
    "\n",
    "datagen_test = ImageDataGenerator(rescale=1./255)\n",
    "\n",
    "train_folder = 'C:/Users/knuser/Desktop/kim/grade/train'\n",
    "valid_folder = 'C:/Users/knuser/Desktop/kim/grade/validation'\n",
    "\n",
    "train_generator = datagen_train.flow_from_directory(\n",
    "    train_folder,\n",
    "    target_size=IMAGE_SIZE,\n",
    "    batch_size=16,\n",
    "    class_mode='categorical'\n",
    ")\n",
    "\n",
    "val_generator = datagen_test.flow_from_directory(\n",
    "    valid_folder,\n",
    "    target_size=IMAGE_SIZE,\n",
    "    batch_size=16,\n",
    "    class_mode='categorical'\n",
    ")"
   ]
  },
  {
   "cell_type": "code",
   "execution_count": null,
   "id": "1b844a05",
   "metadata": {},
   "outputs": [],
   "source": [
    "class_map = dict([(v, k) for k, v in train_generator.class_indices.items()])\n",
    "print(class_map)"
   ]
  },
  {
   "cell_type": "code",
   "execution_count": null,
   "id": "ad20f981",
   "metadata": {
    "scrolled": true
   },
   "outputs": [],
   "source": [
    "import matplotlib.pyplot as plt\n",
    "import numpy as np\n",
    "# train_generator에서 batch_size만큼 이미지를 가져옵니다.\n",
    "x_batch, y_batch = next(train_generator)\n",
    "x_batch=np.clip(x_batch, 0, 1)\n",
    "# 이미지를 시각화합니다.\n",
    "fig, ax = plt.subplots(nrows=2, ncols=8, figsize=(16, 8))\n",
    "ax = ax.ravel()\n",
    "for i in range(16):\n",
    "    ax[i].imshow(x_batch[i])\n",
    "    ax[i].axis('off')\n",
    "plt.show()"
   ]
  },
  {
   "cell_type": "code",
   "execution_count": null,
   "id": "5d870551",
   "metadata": {
    "scrolled": true
   },
   "outputs": [],
   "source": [
    "from keras.callbacks import EarlyStopping\n",
    "from sklearn.model_selection import train_test_split\n",
    "from sklearn.preprocessing import LabelEncoder\n",
    "from tensorflow.keras.layers import Dropout\n",
    "from tensorflow import keras\n",
    "from keras.layers import *\n",
    "from keras.models import *\n",
    "height, width = 150,150\n",
    "# Create the model\n",
    "model = Sequential()\n",
    "\n",
    "model.add(Conv2D(filters=32, kernel_size=3, strides=1, padding='same', input_shape=(height, width, 3)))\n",
    "model.add(BatchNormalization())\n",
    "model.add(Activation('relu'))\n",
    "model.add(MaxPooling2D(2))\n",
    "model.add(Dropout(0.25))\n",
    "\n",
    "model.add(Conv2D(filters=64, kernel_size=3, strides=1, padding='same'))\n",
    "model.add(BatchNormalization())\n",
    "model.add(Activation('relu'))\n",
    "model.add(MaxPooling2D(2))\n",
    "model.add(Dropout(0.25))\n",
    "\n",
    "model.add(Conv2D(filters=64, kernel_size=3, strides=1, padding='same'))\n",
    "model.add(BatchNormalization())\n",
    "model.add(Activation('relu'))\n",
    "model.add(MaxPooling2D(2))\n",
    "model.add(Dropout(0.25))\n",
    "\n",
    "model.add(Conv2D(filters=128, kernel_size=3, strides=1, padding='same'))\n",
    "model.add(BatchNormalization())\n",
    "model.add(Activation('relu'))\n",
    "model.add(MaxPooling2D(2))\n",
    "\n",
    "model.add(Flatten())\n",
    "model.add(Dense(128))\n",
    "model.add(BatchNormalization())\n",
    "model.add(Activation('relu'))\n",
    "model.add(Dropout(0.25))\n",
    "\n",
    "model.add(Dense(64))\n",
    "model.add(BatchNormalization())\n",
    "model.add(Activation('relu'))\n",
    "\n",
    "model.add(Dense(32))\n",
    "model.add(BatchNormalization())\n",
    "model.add(Activation('relu'))\n",
    "\n",
    "model.add(Dense(8, activation='softmax'))\n",
    "\n",
    "model.summary()\n",
    "\n",
    "\n",
    "# Compile the model\n",
    "model.compile(optimizer='adam', loss='categorical_crossentropy', metrics=['accuracy'])\n",
    "\n",
    "early_stopping = EarlyStopping(monitor='val_loss', patience=7, verbose=1)\n",
    "\n",
    "\n",
    "# test_loss, test_acc = model.evaluate(test_images, test_labels)\n",
    "# print('Test accuracy:', test_acc)\n",
    "# print('Test loss:', test_loss)"
   ]
  },
  {
   "cell_type": "code",
   "execution_count": null,
   "id": "ac4005dc",
   "metadata": {},
   "outputs": [],
   "source": [
    "from keras.callbacks import ModelCheckpoint\n",
    "\n",
    "# Define the filepath for saving the best model\n",
    "checkpoint_filepath = 'best_model.h5'\n",
    "\n",
    "# Set up ModelCheckpoint callback\n",
    "checkpoint = ModelCheckpoint(checkpoint_filepath, monitor='val_loss', save_best_only=True, mode='min', verbose=1)"
   ]
  },
  {
   "cell_type": "code",
   "execution_count": null,
   "id": "b448a4d5",
   "metadata": {
    "scrolled": true
   },
   "outputs": [],
   "source": [
    "# Train the model\n",
    "history = model.fit(\n",
    "    train_generator,\n",
    "    epochs=200,\n",
    "    validation_data=val_generator,\n",
    "    callbacks=[early_stopping, checkpoint],\n",
    "    steps_per_epoch=len(train_generator),\n",
    "    validation_steps=len(val_generator)\n",
    ")\n"
   ]
  },
  {
   "cell_type": "code",
   "execution_count": null,
   "id": "fc3cf91c",
   "metadata": {},
   "outputs": [],
   "source": [
    "# Load the test data using the test generator\n",
    "test_folder = 'C:/Users/knuser/Desktop/kim/grade/test'\n",
    "\n",
    "test_generator = datagen_test.flow_from_directory(\n",
    "    test_folder,\n",
    "    target_size=(height, width),\n",
    "    batch_size=32,\n",
    "    class_mode='categorical',\n",
    "    shuffle=False  # Set shuffle to False for correct evaluation\n",
    ")\n",
    "\n",
    "# Evaluate the model on the test data\n",
    "test_loss, test_acc = model.evaluate(test_generator)\n",
    "print('Test accuracy:', test_acc)\n",
    "print('Test loss:', test_loss)"
   ]
  },
  {
   "cell_type": "code",
   "execution_count": null,
   "id": "eb7df1d3",
   "metadata": {},
   "outputs": [],
   "source": [
    "import matplotlib.pyplot as plt\n",
    "\n",
    "# Plot training & validation accuracy values\n",
    "plt.plot(history.history['accuracy'])\n",
    "plt.plot(history.history['val_accuracy'])\n",
    "plt.title('Model Accuracy')\n",
    "plt.ylabel('Accuracy')\n",
    "plt.xlabel('Epoch')\n",
    "plt.legend(['Train', 'Validation'], loc='upper left')\n",
    "plt.show()\n",
    "\n",
    "# Plot training & validation loss values\n",
    "plt.plot(history.history['loss'])\n",
    "plt.plot(history.history['val_loss'])\n",
    "plt.title('Model Loss')\n",
    "plt.ylabel('Loss')\n",
    "plt.xlabel('Epoch')\n",
    "plt.legend(['Train', 'Validation'], loc='upper left')\n",
    "plt.show()"
   ]
  },
  {
   "cell_type": "code",
   "execution_count": null,
   "id": "969d25a3",
   "metadata": {},
   "outputs": [],
   "source": [
    "#tflite 모델로 변환\n",
    "import tensorflow as tf\n",
    "from keras.models import load_model\n",
    "model.save('vegetable_model.h5')\n",
    "# Load the Keras model\n",
    "model = load_model('vegetable_model.h5')\n",
    "\n",
    "# Convert the model to a TFLITE model\n",
    "converter = tf.lite.TFLiteConverter.from_keras_model(model)\n",
    "tflite_model = converter.convert()\n",
    "\n",
    "# Save the TFLITE model to a file\n",
    "with open('vegetable_model.tflite', 'wb') as f:\n",
    "    f.write(tflite_model)"
   ]
  },
  {
   "cell_type": "code",
   "execution_count": null,
   "id": "dbb19eeb",
   "metadata": {},
   "outputs": [],
   "source": [
    "from keras.models import load_model\n",
    "model=load_model('vegetable_model.h5')\n",
    "#C:\\Users\\knuser\\Documents\\카카오톡 받은 파일\\새 폴더 (2)"
   ]
  },
  {
   "cell_type": "code",
   "execution_count": null,
   "id": "29269d28",
   "metadata": {},
   "outputs": [],
   "source": [
    "from keras.models import load_model\n",
    "from keras.preprocessing import image\n",
    "import numpy as np\n",
    "import os\n",
    "# Load the model\n",
    "model = load_model('vegetable_model.h5')\n",
    "\n",
    "# Define the directory containing the images\n",
    "directory = r'C:\\Users\\knuser\\Documents\\카카오톡 받은 파일\\새 폴더 (2)'\n",
    "\n",
    "# Loop over the images in the directory\n",
    "for filename in os.listdir(directory):\n",
    "    if filename.endswith(\".jpg\") or filename.endswith(\".jpeg\") or filename.endswith(\".png\"):\n",
    "        # Construct the full image path\n",
    "        image_path = os.path.join(directory, filename)\n",
    "\n",
    "        # Load and preprocess the image\n",
    "        img = image.load_img(image_path, target_size=(150, 150))\n",
    "        img_array = image.img_to_array(img)\n",
    "        img_array = np.expand_dims(img_array, axis=0)\n",
    "        img_array /= 255.0\n",
    "        # Make predictions\n",
    "        predictions = model.predict(img_array)\n",
    "        # Get the predicted class index\n",
    "        predicted_class_index = np.argmax(predictions)\n",
    "\n",
    "        # Print the predicted class label\n",
    "        print(f\"Image: {filename}, Predicted Class: {predicted_class_index}\")"
   ]
  }
 ],
 "metadata": {
  "kernelspec": {
   "display_name": "RL",
   "language": "python",
   "name": "rl"
  },
  "language_info": {
   "codemirror_mode": {
    "name": "ipython",
    "version": 3
   },
   "file_extension": ".py",
   "mimetype": "text/x-python",
   "name": "python",
   "nbconvert_exporter": "python",
   "pygments_lexer": "ipython3",
   "version": "3.7.11"
  }
 },
 "nbformat": 4,
 "nbformat_minor": 5
}
